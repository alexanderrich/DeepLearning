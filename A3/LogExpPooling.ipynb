{
 "metadata": {
  "language": "lua",
  "name": "",
  "signature": "sha256:ea59442a3ab5017910a8d6e0cfba37d2b4671950ddaa0f714ac5cda57b2b0aa7"
 },
 "nbformat": 3,
 "nbformat_minor": 0,
 "worksheets": [
  {
   "cells": [
    {
     "cell_type": "code",
     "collapsed": false,
     "input": [
      "beta = 1\n",
      "function TemporalLogExpPooling(input)\n",
      "    local n = input:size()\n",
      "    local parens = input:exp():sum():div(n[1])\n",
      "    tlep = math.log(parens)/beta\n",
      "    return tlep\n",
      "end"
     ],
     "language": "python",
     "metadata": {},
     "outputs": [],
     "prompt_number": 38
    },
    {
     "cell_type": "code",
     "collapsed": false,
     "input": [
      "function TemporalLogExpPoolingGradient(input)\n",
      "    sumInp = input:apply(expb):sum()\n",
      "    grad = input:apply(expb):div(sumInp)\n",
      "    return grad\n",
      "end"
     ],
     "language": "python",
     "metadata": {},
     "outputs": [],
     "prompt_number": 39
    },
    {
     "cell_type": "code",
     "collapsed": false,
     "input": [
      "function expb(x)\n",
      "    bx = - beta * x\n",
      "    return math.exp(bx)\n",
      "end"
     ],
     "language": "python",
     "metadata": {},
     "outputs": [],
     "prompt_number": 40
    }
   ],
   "metadata": {}
  }
 ]
}