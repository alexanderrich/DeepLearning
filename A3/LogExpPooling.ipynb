{
 "metadata": {
  "language": "lua",
  "name": "",
  "signature": "sha256:52bc1cf455adcf8f2673d5ff7d8de6cd7e984155b08649a4ca4831284f604735"
 },
 "nbformat": 3,
 "nbformat_minor": 0,
 "worksheets": [
  {
   "cells": [
    {
     "cell_type": "code",
     "collapsed": false,
     "input": [
      "beta = 1\n",
      "function TemporalLogExpPooling(input)\n",
      "    local inputT = input:transpose(1, 2)\n",
      "    local n = inputT:size()\n",
      "    print(n[1])\n",
      "    local parens = inputT:exp():sum():div(n[1])\n",
      "    tlep = math.log(parens)/beta\n",
      "    return tlep\n",
      "end"
     ],
     "language": "python",
     "metadata": {},
     "outputs": []
    },
    {
     "cell_type": "code",
     "collapsed": false,
     "input": [
      "beta = 1\n",
      "function TemporalLogExpPooling(input)\n",
      "    local n = input:size()\n",
      "    print(n[1])\n",
      "    local parens = input:exp():sum()\n",
      "    tlep = math.log(parens:div(n[1]))/beta\n",
      "    return tlep\n",
      "end"
     ],
     "language": "python",
     "metadata": {},
     "outputs": [],
     "prompt_number": 50
    },
    {
     "cell_type": "code",
     "collapsed": false,
     "input": [
      "x = torch.Tensor(3,1)\n",
      "i = 0\n",
      "\n",
      "x:apply(function()\n",
      "  i = i + 1\n",
      "  return i\n",
      "end)\n",
      "print(x)\n",
      "y = x:exp():sum()\n",
      "y = y/2\n",
      "print(y)"
     ],
     "language": "python",
     "metadata": {},
     "outputs": [
      {
       "metadata": {},
       "output_type": "pyout",
       "prompt_number": 59,
       "text": [
        " 1\n",
        " 2\n",
        " 3\n",
        "[torch.DoubleTensor of dimension 3x1]\n",
        "\n",
        "30.192874850577\t\n"
       ]
      }
     ],
     "prompt_number": 59
    },
    {
     "cell_type": "code",
     "collapsed": false,
     "input": [
      "function TemporalLogExpPoolingGradient(input)\n",
      "    sumInp = input:apply(expb):sum()\n",
      "    grad = input:apply(expb):div(sumInp)\n",
      "    return grad\n",
      "end"
     ],
     "language": "python",
     "metadata": {},
     "outputs": [],
     "prompt_number": 39
    },
    {
     "cell_type": "code",
     "collapsed": false,
     "input": [
      "function expb(x)\n",
      "    bx = - beta * x\n",
      "    return math.exp(bx)\n",
      "end"
     ],
     "language": "python",
     "metadata": {},
     "outputs": [],
     "prompt_number": 40
    }
   ],
   "metadata": {}
  }
 ]
}