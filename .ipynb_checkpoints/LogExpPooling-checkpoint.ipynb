{
 "metadata": {
  "language": "lua",
  "name": "",
  "signature": "sha256:c7c685c18b359b0ca2666cf855ce4519a1dd5ed70a779a68e675bae0cd2aa01f"
 },
 "nbformat": 3,
 "nbformat_minor": 0,
 "worksheets": [
  {
   "cells": [
    {
     "cell_type": "code",
     "collapsed": false,
     "input": [
      "beta = 1\n",
      "function TemporalLogExpPooling(input)\n",
      "    local n = input:size()\n",
      "    local expInp = input:exp()\n",
      "    local sumEI = expInp:sum()\n",
      "    local divSEI = sumEI/n[1]\n",
      "    betaLDSEI = math.log(divSEI)/beta\n",
      "    return betaLDSEI\n",
      "end"
     ],
     "language": "python",
     "metadata": {},
     "outputs": [],
     "prompt_number": 56
    },
    {
     "cell_type": "code",
     "collapsed": false,
     "input": [
      "TemporalLogExpPooling(torch.rand(3))"
     ],
     "language": "python",
     "metadata": {},
     "outputs": [
      {
       "metadata": {},
       "output_type": "pyout",
       "prompt_number": 57,
       "text": [
        "0.30080418522834\t\n"
       ]
      }
     ],
     "prompt_number": 57
    },
    {
     "cell_type": "code",
     "collapsed": false,
     "input": [],
     "language": "python",
     "metadata": {},
     "outputs": []
    }
   ],
   "metadata": {}
  }
 ]
}