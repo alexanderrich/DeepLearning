{
 "metadata": {
  "language": "lua",
  "name": "",
  "signature": "sha256:8ec13f0d942e42a5deaafccb5c442a0d03ca278876ac57b88f4619841bcb5237"
 },
 "nbformat": 3,
 "nbformat_minor": 0,
 "worksheets": [
  {
   "cells": [
    {
     "cell_type": "code",
     "collapsed": false,
     "input": [
      "matio = require 'matio';\n",
      "X = matio.load('train-s.mat','X')\n",
      "y = matio.load('train-s.mat','y')\n",
      "datasetsize = 2\n",
      "-- datasetsize = 5000\n",
      "-- X = matio.load('train.mat','X')\n",
      "-- y = matio.load('train.mat','y')\n",
      "X = X:double();\n",
      "y = y:double();\n",
      "print( X:size(1) )\n",
      "print( y:size(1) )"
     ],
     "language": "python",
     "metadata": {},
     "outputs": []
    },
    {
     "cell_type": "code",
     "collapsed": false,
     "input": [
      "-- build data set\n",
      "dataset={};\n",
      "function dataset:size() return datasetsize end\n",
      "for i=1,dataset:size() do \n",
      "  local input = X[i];\n",
      "  local output = y[i][1]; -- tensor becomes number (for ClassNLL)\n",
      "  dataset[i] = {input, output}\n",
      "end"
     ],
     "language": "python",
     "metadata": {},
     "outputs": []
    },
    {
     "cell_type": "code",
     "collapsed": false,
     "input": [
      "print(dataset[1][2]) -- has to be tensor for MSE, but number for ClassNLL"
     ],
     "language": "python",
     "metadata": {},
     "outputs": []
    },
    {
     "cell_type": "code",
     "collapsed": false,
     "input": [
      "-- the network\n",
      "require \"nn\"\n",
      "model = nn.Sequential()\n",
      "\n",
      "-- model:add(nn.Reshape(27648))\n",
      "model:add(nn.Reshape(3,96,96,false)) -- delete 'false' when working with batches\n",
      "model:add(nn.SpatialConvolutionMM(3,23,7,7,2,2)) -- 23 channels, 7x7 filters, stride (step) 2\n",
      "model:add(nn.ReLU())\n",
      "model:add(nn.SpatialMaxPooling(3,3))\n",
      "\n",
      "-- fully connected layer (50 units)\n",
      "model:add(nn.Reshape(23*15*15,false)) -- delete 'false' when working with batches\n",
      "model:add(nn.Linear(23*15*15,50))\n",
      "model:add(nn.Tanh())\n",
      "model:add(nn.Linear(50,10))\n",
      "\n",
      "model:add(nn.LogSoftMax())"
     ],
     "language": "python",
     "metadata": {},
     "outputs": []
    },
    {
     "cell_type": "code",
     "collapsed": false,
     "input": [
      "model"
     ],
     "language": "python",
     "metadata": {},
     "outputs": []
    },
    {
     "cell_type": "code",
     "collapsed": false,
     "input": [
      "-- model prediction works\n",
      "example = dataset[1][1];\n",
      "print( example:size() )"
     ],
     "language": "python",
     "metadata": {},
     "outputs": []
    },
    {
     "cell_type": "code",
     "collapsed": false,
     "input": [
      "print( model:forward(example):size() )"
     ],
     "language": "python",
     "metadata": {},
     "outputs": []
    },
    {
     "cell_type": "code",
     "collapsed": false,
     "input": [
      "print( model:forward(example) )"
     ],
     "language": "python",
     "metadata": {},
     "outputs": []
    },
    {
     "cell_type": "code",
     "collapsed": false,
     "input": [
      "-- training\n",
      "criterion = nn.ClassNLLCriterion()\n",
      "trainer = nn.StochasticGradient(model, criterion)\n",
      "trainer.learningRate = 0.01\n",
      "trainer:train(dataset)"
     ],
     "language": "python",
     "metadata": {},
     "outputs": []
    },
    {
     "cell_type": "code",
     "collapsed": false,
     "input": [],
     "language": "python",
     "metadata": {},
     "outputs": []
    },
    {
     "cell_type": "code",
     "collapsed": false,
     "input": [],
     "language": "python",
     "metadata": {},
     "outputs": []
    }
   ],
   "metadata": {}
  }
 ]
}