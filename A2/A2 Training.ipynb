{
 "metadata": {
  "language": "lua",
  "name": "",
  "signature": "sha256:d444956cd2879ab093163376319aacaf033c5e51cc2603149ee0a37d0cad533c"
 },
 "nbformat": 3,
 "nbformat_minor": 0,
 "worksheets": [
  {
   "cells": [
    {
     "cell_type": "code",
     "collapsed": false,
     "input": [
      "matio = require 'matio';\n",
      "X = matio.load('train-s.mat','X')\n",
      "y = matio.load('train-s.mat','y')\n",
      "datasetsize = 2\n",
      "-- datasetsize = 5000\n",
      "-- X = matio.load('train.mat','X')\n",
      "-- y = matio.load('train.mat','y')\n",
      "X = X:double();\n",
      "y = y:double();\n",
      "print( X:size(1) )\n",
      "print( y:size(1) )"
     ],
     "language": "python",
     "metadata": {},
     "outputs": []
    },
    {
     "cell_type": "code",
     "collapsed": false,
     "input": [
      "-- build data set\n",
      "dataset={};\n",
      "function dataset:size() return datasetsize end\n",
      "for i=1,dataset:size() do \n",
      "  local input = X[i];\n",
      "  local output = y[i][1]; -- tensor becomes number (for ClassNLL)\n",
      "  dataset[i] = {input, output}\n",
      "end"
     ],
     "language": "python",
     "metadata": {},
     "outputs": []
    },
    {
     "cell_type": "code",
     "collapsed": false,
     "input": [
      "print(dataset[1][2]) -- has to be tensor for MSE, but number for ClassNLL"
     ],
     "language": "python",
     "metadata": {},
     "outputs": []
    },
    {
     "cell_type": "code",
     "collapsed": false,
     "input": [
      "-- the network\n",
      "require \"nn\"\n",
      "-- Simple linear model\n",
      "model = nn.Sequential()\n",
      "model:add(nn.Reshape(27648))\n",
      "model:add(nn.Linear(27648, 10))\n",
      "model:add(nn.LogSoftMax())"
     ],
     "language": "python",
     "metadata": {},
     "outputs": []
    },
    {
     "cell_type": "code",
     "collapsed": false,
     "input": [
      "model"
     ],
     "language": "python",
     "metadata": {},
     "outputs": []
    },
    {
     "cell_type": "code",
     "collapsed": false,
     "input": [
      "-- model prediction works\n",
      "print( model:forward(dataset[1][1]) )"
     ],
     "language": "python",
     "metadata": {},
     "outputs": []
    },
    {
     "cell_type": "code",
     "collapsed": false,
     "input": [
      "-- training\n",
      "criterion = nn.ClassNLLCriterion()\n",
      "trainer = nn.StochasticGradient(model, criterion)\n",
      "trainer.learningRate = 0.01\n",
      "trainer:train(dataset)"
     ],
     "language": "python",
     "metadata": {},
     "outputs": []
    },
    {
     "cell_type": "code",
     "collapsed": false,
     "input": [],
     "language": "python",
     "metadata": {},
     "outputs": []
    },
    {
     "cell_type": "code",
     "collapsed": false,
     "input": [],
     "language": "python",
     "metadata": {},
     "outputs": []
    }
   ],
   "metadata": {}
  }
 ]
}