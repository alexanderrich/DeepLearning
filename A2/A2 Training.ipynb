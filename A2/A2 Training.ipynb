{
 "metadata": {
  "language": "lua",
  "name": "",
  "signature": "sha256:0bbf1d5dcfb3b8581e49517e9442b9e9b6c41990490d7dd7f72c883b42540c74"
 },
 "nbformat": 3,
 "nbformat_minor": 0,
 "worksheets": [
  {
   "cells": [
    {
     "cell_type": "code",
     "collapsed": false,
     "input": [
      "matio = require 'matio';\n",
      "X = matio.load('train-s.mat','X')\n",
      "y = matio.load('train-s.mat','y')\n",
      "datasetsize = 2\n",
      "-- datasetsize = 5000\n",
      "-- X = matio.load('train.mat','X')\n",
      "-- y = matio.load('train.mat','y')\n",
      "X = X:double();\n",
      "y = y:double();\n",
      "print( X:size(1) )\n",
      "print( y:size(1) )"
     ],
     "language": "python",
     "metadata": {},
     "outputs": [
      {
       "metadata": {},
       "output_type": "pyout",
       "prompt_number": 4,
       "text": [
        "2\t\n",
        "2\t\n"
       ]
      }
     ],
     "prompt_number": 4
    },
    {
     "cell_type": "code",
     "collapsed": false,
     "input": [
      "-- build data set\n",
      "dataset={};\n",
      "function dataset:size() return datasetsize end\n",
      "for i=1,dataset:size() do \n",
      "  local input = X[i];\n",
      "  local output = y[i][1]; -- tensor becomes number (for ClassNLL)\n",
      "  dataset[i] = {input, output}\n",
      "end"
     ],
     "language": "python",
     "metadata": {},
     "outputs": [],
     "prompt_number": 5
    },
    {
     "cell_type": "code",
     "collapsed": false,
     "input": [
      "print(dataset[1][2]) -- has to be tensor for MSE, but number for ClassNLL"
     ],
     "language": "python",
     "metadata": {},
     "outputs": [
      {
       "metadata": {},
       "output_type": "pyout",
       "prompt_number": 6,
       "text": [
        "2\t\n"
       ]
      }
     ],
     "prompt_number": 6
    },
    {
     "cell_type": "code",
     "collapsed": false,
     "input": [
      "-- the network\n",
      "require \"nn\"\n",
      "-- Simple linear model\n",
      "model = nn.Sequential()\n",
      "model:add(nn.Reshape(27648))\n",
      "model:add(nn.Linear(27648, 10))\n",
      "model:add(nn.LogSoftMax())"
     ],
     "language": "python",
     "metadata": {},
     "outputs": [],
     "prompt_number": 50
    },
    {
     "cell_type": "code",
     "collapsed": false,
     "input": [
      "model"
     ],
     "language": "python",
     "metadata": {},
     "outputs": [
      {
       "metadata": {},
       "output_type": "pyout",
       "prompt_number": 40,
       "text": [
        "nn.Sequential {\n",
        "  [input -> (1) -> (2) -> (3) -> output]\n",
        "  (1): nn.Reshape(27648)\n",
        "  (2): nn.Linear(27648 -> 10)\n",
        "  (3): nn.LogSoftMax\n",
        "}\n",
        "{\n",
        "  output : DoubleTensor - empty\n",
        "  gradInput : DoubleTensor - empty\n",
        "  modules : \n",
        "    {\n",
        "      1 : \n",
        "        nn.Reshape(27648)\n",
        "        {\n",
        "          _gradOutput : DoubleTensor - empty\n",
        "          size : LongStorage - size: 1\n",
        "          nelement : 27648\n",
        "          _input : DoubleTensor - empty\n",
        "          batchsize : LongStorage - size: 2\n",
        "          output : DoubleTensor - empty\n",
        "          gradInput : DoubleTensor - empty\n",
        "        }\n",
        "      2 : \n",
        "        nn.Linear(27648 -> 10)\n",
        "        {\n",
        "          bias : DoubleTensor - size: 10\n",
        "          weight : DoubleTensor - size: 10x27648\n",
        "          gradInput : DoubleTensor - empty\n",
        "          gradBias : DoubleTensor - size: 10\n",
        "          gradWeight : DoubleTensor - size: 10x27648\n",
        "          output : DoubleTensor - empty\n",
        "        }\n",
        "      3 : \n",
        "        nn.LogSoftMax\n",
        "        {\n",
        "          gradInput : DoubleTensor - empty\n",
        "          output : DoubleTensor - empty\n",
        "        }\n",
        "    }\n",
        "}\n"
       ]
      }
     ],
     "prompt_number": 40
    },
    {
     "cell_type": "code",
     "collapsed": true,
     "input": [
      "-- model prediction works\n",
      "print( model:forward(dataset[1][1]) )"
     ],
     "language": "python",
     "metadata": {},
     "outputs": [
      {
       "metadata": {},
       "output_type": "pyout",
       "prompt_number": 51,
       "text": [
        "-195.4409\n",
        "-127.5106\n",
        " -18.8406\n",
        " -72.6805\n",
        " -90.9639\n",
        " -23.7997\n",
        "   0.0000\n",
        "-142.3848\n",
        " -62.5436\n",
        " -53.9530\n",
        "[torch.DoubleTensor of dimension 10]\n",
        "\n",
        "\n"
       ]
      }
     ],
     "prompt_number": 51
    },
    {
     "cell_type": "code",
     "collapsed": false,
     "input": [
      "-- training\n",
      "criterion = nn.ClassNLLCriterion()\n",
      "trainer = nn.StochasticGradient(model, criterion)\n",
      "trainer.learningRate = 0.01\n",
      "trainer:train(dataset)"
     ],
     "language": "python",
     "metadata": {},
     "outputs": [
      {
       "metadata": {},
       "output_type": "pyout",
       "prompt_number": 52,
       "text": [
        "# StochasticGradient: training\t\n"
       ]
      },
      {
       "metadata": {},
       "output_type": "pyout",
       "prompt_number": 52,
       "text": [
        "# current error = 3182607.3583224\t\n"
       ]
      },
      {
       "metadata": {},
       "output_type": "pyout",
       "prompt_number": 52,
       "text": [
        "# current error = 2836945.294776\t\n"
       ]
      },
      {
       "metadata": {},
       "output_type": "pyout",
       "prompt_number": 52,
       "text": [
        "# current error = 2593866.93872\t\n"
       ]
      },
      {
       "metadata": {},
       "output_type": "pyout",
       "prompt_number": 52,
       "text": [
        "# current error = 2451800.7247197\t\n"
       ]
      },
      {
       "metadata": {},
       "output_type": "pyout",
       "prompt_number": 52,
       "text": [
        "# current error = 2284984.1051355\t\n"
       ]
      },
      {
       "metadata": {},
       "output_type": "pyout",
       "prompt_number": 52,
       "text": [
        "# current error = 2145137.1584256\t\n"
       ]
      },
      {
       "metadata": {},
       "output_type": "pyout",
       "prompt_number": 52,
       "text": [
        "# current error = 1963307.7916165\t\n"
       ]
      },
      {
       "metadata": {},
       "output_type": "pyout",
       "prompt_number": 52,
       "text": [
        "# current error = 1900145.6304574\t\n"
       ]
      },
      {
       "metadata": {},
       "output_type": "pyout",
       "prompt_number": 52,
       "text": [
        "# current error = 1809306.5872931\t\n"
       ]
      },
      {
       "metadata": {},
       "output_type": "pyout",
       "prompt_number": 52,
       "text": [
        "# current error = 1707194.7594363\t\n"
       ]
      },
      {
       "metadata": {},
       "output_type": "pyout",
       "prompt_number": 52,
       "text": [
        "# current error = 1624268.6127277\t\n"
       ]
      },
      {
       "metadata": {},
       "output_type": "pyout",
       "prompt_number": 52,
       "text": [
        "# current error = 1551498.0774943\t\n"
       ]
      },
      {
       "metadata": {},
       "output_type": "pyout",
       "prompt_number": 52,
       "text": [
        "# current error = 1470074.265701\t\n"
       ]
      },
      {
       "metadata": {},
       "output_type": "pyout",
       "prompt_number": 52,
       "text": [
        "# current error = 1399710.9534075\t\n"
       ]
      },
      {
       "metadata": {},
       "output_type": "pyout",
       "prompt_number": 52,
       "text": [
        "# current error = 1345642.264272\t\n"
       ]
      },
      {
       "metadata": {},
       "output_type": "pyout",
       "prompt_number": 52,
       "text": [
        "# current error = 1291910.2443805\t\n"
       ]
      },
      {
       "metadata": {},
       "output_type": "pyout",
       "prompt_number": 52,
       "text": [
        "# current error = 1225075.6860983\t\n"
       ]
      },
      {
       "metadata": {},
       "output_type": "pyout",
       "prompt_number": 52,
       "text": [
        "# current error = 1211178.4807346\t\n"
       ]
      },
      {
       "metadata": {},
       "output_type": "pyout",
       "prompt_number": 52,
       "text": [
        "# current error = 1177542.3980008\t\n"
       ]
      },
      {
       "metadata": {},
       "output_type": "pyout",
       "prompt_number": 52,
       "text": [
        "# current error = 1123765.3850085\t\n"
       ]
      },
      {
       "metadata": {},
       "output_type": "pyout",
       "prompt_number": 52,
       "text": [
        "# current error = 1073831.6727451\t\n"
       ]
      },
      {
       "metadata": {},
       "output_type": "pyout",
       "prompt_number": 52,
       "text": [
        "# current error = 1003013.4226719\t\n"
       ]
      },
      {
       "metadata": {},
       "output_type": "pyout",
       "prompt_number": 52,
       "text": [
        "# current error = 975417.78626927\t\n"
       ]
      },
      {
       "metadata": {},
       "output_type": "pyout",
       "prompt_number": 52,
       "text": [
        "# current error = 962077.48452195\t\n"
       ]
      },
      {
       "metadata": {},
       "output_type": "pyout",
       "prompt_number": 52,
       "text": [
        "# current error = 927471.37997569\t\n",
        "# StochasticGradient: you have reached the maximum number of iterations\t\n",
        "# training error = 927471.37997569\t\n"
       ]
      }
     ],
     "prompt_number": 52
    },
    {
     "cell_type": "code",
     "collapsed": false,
     "input": [],
     "language": "python",
     "metadata": {},
     "outputs": []
    },
    {
     "cell_type": "code",
     "collapsed": false,
     "input": [],
     "language": "python",
     "metadata": {},
     "outputs": []
    }
   ],
   "metadata": {}
  }
 ]
}