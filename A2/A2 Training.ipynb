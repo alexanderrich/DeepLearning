{
 "metadata": {
  "language": "lua",
  "name": "",
  "signature": "sha256:0d60ab45fff1381f461f99d3684440fa3918b32c65afabced4d69847baec7013"
 },
 "nbformat": 3,
 "nbformat_minor": 0,
 "worksheets": [
  {
   "cells": [
    {
     "cell_type": "code",
     "collapsed": false,
     "input": [
      "-- to do:\n",
      "-- input preprocessing\n",
      "-- batches"
     ],
     "language": "python",
     "metadata": {},
     "outputs": []
    },
    {
     "cell_type": "code",
     "collapsed": false,
     "input": [
      "require 'torch';\n",
      "require 'image';\n",
      "require 'nn';\n",
      "matio = require 'matio';"
     ],
     "language": "python",
     "metadata": {},
     "outputs": []
    },
    {
     "cell_type": "code",
     "collapsed": false,
     "input": [
      "-- loading data\n",
      "mat = matio.load('train.mat')\n",
      "mat.X = mat.X:double()\n",
      "mat.X = nn.Reshape(3,96,96):forward(mat.X)\n",
      "mat.X = mat.X:transpose(3,4)"
     ],
     "language": "python",
     "metadata": {},
     "outputs": []
    },
    {
     "cell_type": "code",
     "collapsed": false,
     "input": [
      "itorch.image(mat.X[1])"
     ],
     "language": "python",
     "metadata": {},
     "outputs": []
    },
    {
     "cell_type": "code",
     "collapsed": false,
     "input": [
      "trainData = {\n",
      "    data = mat.X,\n",
      "    label = mat.y[1], -- tensor becomes number (for ClassNLL)\n",
      "    size = function() return 5000 end\n",
      "}"
     ],
     "language": "python",
     "metadata": {},
     "outputs": []
    },
    {
     "cell_type": "code",
     "collapsed": false,
     "input": [
      "-- Convert all images to YUV\n",
      "for i = 1,5000 do\n",
      "    image.rgb2yuv(trainData.data[i], trainData.data[i]);\n",
      "end"
     ],
     "language": "python",
     "metadata": {},
     "outputs": []
    },
    {
     "cell_type": "code",
     "collapsed": false,
     "input": [
      "itorch.image(trainData.data[1])"
     ],
     "language": "python",
     "metadata": {},
     "outputs": []
    },
    {
     "cell_type": "code",
     "collapsed": false,
     "input": [],
     "language": "python",
     "metadata": {},
     "outputs": []
    },
    {
     "cell_type": "code",
     "collapsed": false,
     "input": [
      "-- the network\n",
      "require \"nn\"\n",
      "model = nn.Sequential()\n",
      "\n",
      "-- model:add(nn.Reshape(27648))\n",
      "model:add(nn.Reshape(3,96,96,false)) -- delete 'false' when working with batches\n",
      "-- model:add(nn.SpatialZeroPadding(2,2,2,2))\n",
      "model:add(nn.SpatialConvolutionMM(3,23,7,7,2,2)) -- 23 channels, 7x7 filters, stride (step) 2\n",
      "model:add(nn.ReLU())\n",
      "model:add(nn.SpatialMaxPooling(3,3,2,2)) -- stride 2\n",
      "model:add(nn.Dropout())\n",
      "\n",
      "-- fully connected layer (50 units)\n",
      "model:add(nn.Reshape(23*22*22,false)) -- delete 'false' when working with batches\n",
      "model:add(nn.Linear(23*22*22,50))\n",
      "model:add(nn.Tanh())\n",
      "model:add(nn.Linear(50,10))\n",
      "\n",
      "model:add(nn.LogSoftMax())"
     ],
     "language": "python",
     "metadata": {},
     "outputs": []
    },
    {
     "cell_type": "code",
     "collapsed": false,
     "input": [
      "-- most simple network \n",
      "require \"nn\"\n",
      "model = nn.Sequential();  -- make a multi-layer perceptron\n",
      "inputs = 27648; outputs = 10; HUs = 200; -- parameters\n",
      "model:add(nn.Reshape(inputs))\n",
      "model:add(nn.Linear(inputs, HUs))\n",
      "model:add(nn.Tanh())\n",
      "model:add(nn.Linear(HUs, outputs))\n",
      "model:add(nn.LogSoftMax())"
     ],
     "language": "python",
     "metadata": {},
     "outputs": []
    },
    {
     "cell_type": "code",
     "collapsed": true,
     "input": [
      "model"
     ],
     "language": "python",
     "metadata": {},
     "outputs": []
    },
    {
     "cell_type": "code",
     "collapsed": false,
     "input": [
      "-- model prediction works\n",
      "example = trainData.data[1];\n",
      "print( example:size() ) -- input size\n",
      "print( model:forward(example):size() ) -- output size"
     ],
     "language": "python",
     "metadata": {},
     "outputs": []
    },
    {
     "cell_type": "code",
     "collapsed": false,
     "input": [
      "print( model:forward(example) ) -- output"
     ],
     "language": "python",
     "metadata": {},
     "outputs": []
    },
    {
     "cell_type": "code",
     "collapsed": false,
     "input": [
      "print( model:forward(example) ) -- output"
     ],
     "language": "python",
     "metadata": {},
     "outputs": []
    },
    {
     "cell_type": "code",
     "collapsed": false,
     "input": [
      "-- to do:\n",
      "-- manual training\n",
      "-- with batches"
     ],
     "language": "python",
     "metadata": {},
     "outputs": []
    },
    {
     "cell_type": "code",
     "collapsed": false,
     "input": [],
     "language": "python",
     "metadata": {},
     "outputs": []
    },
    {
     "cell_type": "code",
     "collapsed": false,
     "input": [],
     "language": "python",
     "metadata": {},
     "outputs": []
    },
    {
     "cell_type": "code",
     "collapsed": false,
     "input": [
      "----------------------------------------------\n",
      "-- trainer needs a specific dataset structure --"
     ],
     "language": "python",
     "metadata": {},
     "outputs": []
    },
    {
     "cell_type": "code",
     "collapsed": false,
     "input": [
      "-- (limited) data set\n",
      "n = 100\n",
      "limitedData = {}\n",
      "for i = 1,n do\n",
      "    local data = mat.X[i];\n",
      "    local label = mat.y[i][1];\n",
      "    limitedData[i] = {data, label};\n",
      "end\n",
      "\n",
      "function limitedData:size() return n end"
     ],
     "language": "python",
     "metadata": {},
     "outputs": []
    },
    {
     "cell_type": "code",
     "collapsed": false,
     "input": [],
     "language": "python",
     "metadata": {},
     "outputs": []
    },
    {
     "cell_type": "code",
     "collapsed": false,
     "input": [
      "-- model prediction works\n",
      "example = dataset[1][1];\n",
      "print( example:size() ) -- input size\n",
      "print( model:forward(example):size() ) -- output size"
     ],
     "language": "python",
     "metadata": {},
     "outputs": []
    },
    {
     "cell_type": "code",
     "collapsed": false,
     "input": [
      "print( model:forward(example) ) -- output"
     ],
     "language": "python",
     "metadata": {},
     "outputs": []
    },
    {
     "cell_type": "code",
     "collapsed": false,
     "input": [
      "-- training with trainer\n",
      "criterion = nn.ClassNLLCriterion()\n",
      "trainer = nn.StochasticGradient(model, criterion)\n",
      "trainer.learningRate = 0.001\n",
      "trainer.learningRateDecay = 0.998\n",
      "trainer.maxIteration = 60\n",
      "trainer:train(limitedData)"
     ],
     "language": "python",
     "metadata": {},
     "outputs": []
    },
    {
     "cell_type": "code",
     "collapsed": false,
     "input": [],
     "language": "python",
     "metadata": {},
     "outputs": []
    }
   ],
   "metadata": {}
  }
 ]
}