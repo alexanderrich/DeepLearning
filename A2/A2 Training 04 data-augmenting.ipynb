{
 "metadata": {
  "language": "lua",
  "name": "",
  "signature": "sha256:ee18bd9e62ae7bae61ec4d10773a2518aaa291ce45fa8a480bb8cbf7054e9b98"
 },
 "nbformat": 3,
 "nbformat_minor": 0,
 "worksheets": [
  {
   "cells": [
    {
     "cell_type": "code",
     "collapsed": false,
     "input": [
      "-- -- loading data SMALL\n",
      "-- mat = matio.load('train-s.mat')\n",
      "-- mat.X = mat.X:double()\n",
      "-- mat.X = nn.Reshape(3,96,96):forward(mat.X)\n",
      "-- mat.X = mat.X:transpose(3,4)\n",
      "-- loading data FULL"
     ],
     "language": "python",
     "metadata": {},
     "outputs": []
    },
    {
     "cell_type": "code",
     "collapsed": false,
     "input": [
      "require 'torch';\n",
      "require 'image';\n",
      "require 'nn';\n",
      "matio = require 'matio';\n",
      "\n",
      "mat = matio.load('train.mat')\n",
      "mat.X = mat.X:double()\n",
      "mat.X = nn.Reshape(3,96,96):forward(mat.X)\n",
      "mat.X = mat.X:transpose(3,4)"
     ],
     "language": "python",
     "metadata": {},
     "outputs": []
    },
    {
     "cell_type": "code",
     "collapsed": false,
     "input": [
      "-- (limited) data set\n",
      "n = 50\n",
      "originalData = {\n",
      "    data = mat.X:narrow(1, 1, n),\n",
      "    label = mat.y[{{},1}]:narrow(1, 1, n),\n",
      "    size = function() return n end\n",
      "}\n",
      "\n",
      "-- itorch.image(mat.X[1])\n",
      "\n",
      "------------------------------------------\n",
      "-- data augmenting\n",
      "------------------------------------------\n",
      "\n",
      "-- inflate data set ---------------------\n",
      "\n",
      "inflate_factor = 8\n",
      "\n",
      "-- assign storage\n",
      "augmentData = {}\n",
      "augmentData.data = torch.Tensor(inflate_factor * n, 3, 96, 96)\n",
      "augmentData.label = torch.Tensor(inflate_factor * n)\n",
      "function augmentData:size() return augmentData.data:size()[1] end\n",
      "\n",
      "-- fill with original images\n",
      "for i = 1, augmentData:size() do\n",
      "    if (math.fmod(i,5000)==0) then print(\"fill with original images: \"..i) end\n",
      "    original_i = math.fmod((i-1),n)+1\n",
      "    augmentData.data[i] = augmentData.data[i]:copy(originalData.data[original_i])\n",
      "end\n",
      "\n",
      "-- transformation functions ---------------------\n",
      "\n",
      "-- return 1 or -1\n",
      "function rand_plus_minus() return( (math.random(0,1)-0.5)*2 ) end\n",
      "\n",
      "-- shift + crop + re-scale to original resolution\n",
      "function aug_translate(img)\n",
      "    local right = rand_plus_minus() -- right=-1 for leftwards shift\n",
      "    local x_shift = math.random(2,10) -- 2 to 10 pixels\n",
      "    \n",
      "    local down = rand_plus_minus() -- down=-1 for upwards shift\n",
      "    local y_shift = math.random(2,10) -- 2 to 10 pixels\n",
      "    \n",
      "    image.crop(img, img,\n",
      "        math.max(0, 0+(right*x_shift)),   math.max(0, 0+(down*y_shift)), \n",
      "        math.min(96, 96+(right*x_shift)), math.min(96, 96+(down*y_shift)))\n",
      "end\n",
      "\n",
      "-- horizontal flip\n",
      "function aug_hflip(img)\n",
      "    image.hflip(img, img)\n",
      "end\n",
      "\n",
      "-- rotate + crop + re-scale to original resolution\n",
      "function aug_rotate(img, garbage)\n",
      "    local theta = rand_plus_minus()*math.random(10, 34)/100 -- 6 to 20 degrees\n",
      "\n",
      "    image.rotate(garbage, img, theta)\n",
      "\n",
      "    theta = math.abs(theta)\n",
      "    local r = 96*( (math.cos(theta) + math.sin(theta))-1 )/2 \n",
      "\n",
      "    image.crop(img, garbage, r, r, 96-r, 96-r)\n",
      "end\n",
      "\n",
      "-- apply transformations ---------------------\n",
      "garbage = torch.Tensor(3,96,96)\n",
      "begin = n+1 -- don't perform transformations on first block \n",
      "for i = begin, augmentData:size() do\n",
      "    if (math.fmod(i,5000)==0) then print(i) end\n",
      "    if math.random(0,1)==1 then aug_translate(augmentData.data[i]) end -- down-right or up-left shift\n",
      "    if math.random(0,1)==1 then aug_hflip(augmentData.data[i]) end -- horizontal flip\n",
      "    if true                then aug_rotate(augmentData.data[i], garbage) end -- rotation\n",
      "end\n",
      "\n",
      "-- trainData = originalData\n",
      "trainData = augmentData\n",
      "print(trainData)\n",
      "-- all variants of first image\n",
      "for i = 5, trainData:size(), originalData:size() do\n",
      "    itorch.image(trainData.data[i])\n",
      "end"
     ],
     "language": "python",
     "metadata": {},
     "outputs": []
    },
    {
     "cell_type": "code",
     "collapsed": false,
     "input": [],
     "language": "python",
     "metadata": {},
     "outputs": []
    },
    {
     "cell_type": "code",
     "collapsed": false,
     "input": [
      "------------------------------------------\n",
      "-- data preprocessing\n",
      "------------------------------------------\n",
      "\n",
      "-- Convert all images to HSV ---------------------\n",
      "for i = 1,trainData:size() do\n",
      "    image.rgb2hsv(trainData.data[i], trainData.data[i]);\n",
      "end\n",
      "itorch.image(trainData.data[5])\n",
      "itorch.image(image.hsv2rgb(trainData.data[5]))\n",
      "-- itorch.image(image.yuv2rgb(trainData.data[5]))"
     ],
     "language": "python",
     "metadata": {},
     "outputs": []
    },
    {
     "cell_type": "code",
     "collapsed": false,
     "input": [
      "-- testing --\n",
      "\n",
      "\n",
      "-- xx = trainData.data[5]:clone()\n",
      "xx = trainData.data[5]\n",
      "\n",
      "-- \"contrast2\" from paper:\n",
      "s = xx[2]\n",
      "s:pow(math.random(25,400)/100) -- \"to a power between 0.25 and 4\"\n",
      "s:mul(math.random(70,140)/100) -- \"multiply by a factor between 0.7 and 1.4\"\n",
      "s:add(rand_plus_minus()/10) -- \"add between \u22120.1 and 0.1\"\n",
      "v = xx[3]\n",
      "v:pow(math.random(25,400)/100) -- \"to a power between 0.25 and 4\"\n",
      "v:mul(math.random(70,140)/100) -- \"multiply by a factor between 0.7 and 1.4\"\n",
      "v:add(rand_plus_minus()/10) -- \"add between \u22120.1 and 0.1\"\n",
      "-- \"color\" from paper:\n",
      "h = xx[1]\n",
      "h:add(rand_plus_minus()/10) -- \"add between \u22120.1 and 0.1\"\n",
      "itorch.image(xx)\n",
      "itorch.image(image.hsv2rgb(xx))"
     ],
     "language": "python",
     "metadata": {},
     "outputs": []
    },
    {
     "cell_type": "code",
     "collapsed": false,
     "input": [
      "\n",
      "-- per channel normalization\n",
      "mean = {} -- save for later\n",
      "std = {} -- save for later\n",
      "for i = 2,3 do -- only S and V channel\n",
      "    -- normalizing mean \n",
      "    mean[i] = trainData.data[{ {},i,{},{} }]:mean()\n",
      "    trainData.data[{ {},i,{},{} }]:add(-mean[i])\n",
      "    -- normalizing standard deviation\n",
      "    std[i] = trainData.data[{ {},i,{},{} }]:std()\n",
      "    trainData.data[{ {},i,{},{} }]:div(std[i])\n",
      "end\n",
      "\n",
      "-- -- per pixel normalization\n",
      "-- pixel_mean = {} -- save for later\n",
      "-- pixel_std = {} -- save for later\n",
      "-- for i = 1,96 do\n",
      "--     for j = 1,96 do\n",
      "--         -- normalizing mean \n",
      "--         pixel_mean[i] = trainData.data[{ {},{},i,j }]:mean()\n",
      "--         trainData.data[{ {},{},i,j }]:add(-pixel_mean[i])\n",
      "--     end\n",
      "-- end\n",
      "\n",
      "\n",
      "xx = trainData.data[5]\n",
      "itorch.image(xx)\n",
      "itorch.image(image.hsv2rgb(xx))"
     ],
     "language": "python",
     "metadata": {},
     "outputs": []
    },
    {
     "cell_type": "code",
     "collapsed": false,
     "input": [],
     "language": "python",
     "metadata": {},
     "outputs": []
    },
    {
     "cell_type": "code",
     "collapsed": false,
     "input": [
      "-- the network\n",
      "require \"nn\"\n",
      "model = nn.Sequential()\n",
      "\n",
      "-- model:add(nn.Reshape(27648))\n",
      "model:add(nn.Reshape(3,96,96,false)) -- delete 'false' when working with batches\n",
      "-- model:add(nn.SpatialZeroPadding(2,2,2,2))\n",
      "model:add(nn.SpatialConvolutionMM(3,23,7,7,2,2)) -- 23 channels, 7x7 filters, stride (step) 2\n",
      "model:add(nn.ReLU())\n",
      "model:add(nn.SpatialMaxPooling(3,3,2,2)) -- stride 2\n",
      "-- model:add(nn.Dropout())\n",
      "\n",
      "-- -- lecture: \"fully connected layer means convnet with 1x1 kernel\"\n",
      "-- model:add(nn.SpatialConvolutionMM(23,1,1,1)) -- 1 channel, 1x1 filter\n",
      "-- model:add(nn.Reshape(1*22*22,false)) -- delete 'false' when working with batches\n",
      "-- model:add(nn.Linear(1*22*22,10))\n",
      "\n",
      "-- fully connected layer (50 units)\n",
      "model:add(nn.Reshape(23*22*22,false)) -- delete 'false' when working with batches\n",
      "model:add(nn.Linear(23*22*22,50))\n",
      "model:add(nn.Tanh())\n",
      "model:add(nn.Linear(50,10))\n",
      "\n",
      "model:add(nn.LogSoftMax())"
     ],
     "language": "python",
     "metadata": {},
     "outputs": []
    },
    {
     "cell_type": "code",
     "collapsed": false,
     "input": [
      "-- most simple network \n",
      "require \"nn\"\n",
      "model = nn.Sequential();  -- make a multi-layer perceptron\n",
      "inputs = 27648; outputs = 10; HUs = 200; -- parameters\n",
      "model:add(nn.Reshape(inputs))\n",
      "model:add(nn.Linear(inputs, HUs))\n",
      "model:add(nn.Tanh())\n",
      "model:add(nn.Linear(HUs, outputs))\n",
      "model:add(nn.LogSoftMax())"
     ],
     "language": "python",
     "metadata": {},
     "outputs": []
    },
    {
     "cell_type": "code",
     "collapsed": false,
     "input": [
      "model"
     ],
     "language": "python",
     "metadata": {},
     "outputs": []
    },
    {
     "cell_type": "code",
     "collapsed": false,
     "input": [
      "-- model prediction works\n",
      "example = trainData.data[1];\n",
      "print( example:size() ) -- input size\n",
      "print( model:forward(example):size() ) -- output size"
     ],
     "language": "python",
     "metadata": {},
     "outputs": []
    },
    {
     "cell_type": "code",
     "collapsed": false,
     "input": [
      "print( model:forward(example) ) -- output"
     ],
     "language": "python",
     "metadata": {},
     "outputs": []
    },
    {
     "cell_type": "code",
     "collapsed": false,
     "input": [
      "-- to do:\n",
      "-- manual training\n",
      "-- with batches"
     ],
     "language": "python",
     "metadata": {},
     "outputs": []
    },
    {
     "cell_type": "code",
     "collapsed": false,
     "input": [],
     "language": "python",
     "metadata": {},
     "outputs": []
    },
    {
     "cell_type": "code",
     "collapsed": false,
     "input": [],
     "language": "python",
     "metadata": {},
     "outputs": []
    },
    {
     "cell_type": "code",
     "collapsed": false,
     "input": [
      "----------------------------------------------\n",
      "-- trainer needs a specific dataset structure --"
     ],
     "language": "python",
     "metadata": {},
     "outputs": []
    },
    {
     "cell_type": "code",
     "collapsed": false,
     "input": [
      "-- (limited) data set\n",
      "n = trainData:size()\n",
      "limitedData = {}\n",
      "for i = 1,n do\n",
      "    local data = trainData.data[i];\n",
      "    local label = trainData.label[i];\n",
      "    limitedData[i] = {data, label};\n",
      "end\n",
      "\n",
      "function limitedData:size() return n end"
     ],
     "language": "python",
     "metadata": {},
     "outputs": []
    },
    {
     "cell_type": "code",
     "collapsed": false,
     "input": [],
     "language": "python",
     "metadata": {},
     "outputs": []
    },
    {
     "cell_type": "code",
     "collapsed": false,
     "input": [
      "-- model prediction works\n",
      "example = limitedData[1][1];\n",
      "print( example:size() ) -- input size\n",
      "print( model:forward(example):size() ) -- output size"
     ],
     "language": "python",
     "metadata": {},
     "outputs": []
    },
    {
     "cell_type": "code",
     "collapsed": true,
     "input": [
      "print( model:forward(example) ) -- output"
     ],
     "language": "python",
     "metadata": {},
     "outputs": []
    },
    {
     "cell_type": "code",
     "collapsed": true,
     "input": [
      "-- training with trainer\n",
      "criterion = nn.ClassNLLCriterion()\n",
      "trainer = nn.StochasticGradient(model, criterion)\n",
      "trainer.learningRate = 0.01\n",
      "trainer.learningRateDecay = 0.998\n",
      "trainer.maxIteration = 10\n",
      "trainer:train(limitedData)"
     ],
     "language": "python",
     "metadata": {},
     "outputs": []
    },
    {
     "cell_type": "code",
     "collapsed": false,
     "input": [],
     "language": "python",
     "metadata": {},
     "outputs": []
    }
   ],
   "metadata": {}
  }
 ]
}