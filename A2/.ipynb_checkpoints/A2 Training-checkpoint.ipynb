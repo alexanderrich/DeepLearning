{
 "metadata": {
  "language": "lua",
  "name": "",
  "signature": "sha256:ef5ff18e580e75d1e57f4dc2c6172ecbf6383d95e5d40c44cd5472d334e9b0a6"
 },
 "nbformat": 3,
 "nbformat_minor": 0,
 "worksheets": [
  {
   "cells": [
    {
     "cell_type": "code",
     "collapsed": false,
     "input": [
      "-- to do:\n",
      "-- dropout\n",
      "-- input preprocessing\n",
      "-- batches\n"
     ],
     "language": "python",
     "metadata": {},
     "outputs": []
    },
    {
     "cell_type": "code",
     "collapsed": false,
     "input": [
      "matio = require 'matio';\n",
      "X = matio.load('train-s.mat','X')\n",
      "y = matio.load('train-s.mat','y')\n",
      "datasetsize = 2\n",
      "-- datasetsize = 5000\n",
      "-- X = matio.load('train.mat','X')\n",
      "-- y = matio.load('train.mat','y')\n",
      "X = X:double();\n",
      "y = y:double();\n",
      "print( X:size(1) )\n",
      "print( y:size(1) )"
     ],
     "language": "python",
     "metadata": {},
     "outputs": [
      {
       "metadata": {},
       "output_type": "pyout",
       "prompt_number": 67,
       "text": [
        "2\t\n",
        "2\t\n"
       ]
      }
     ],
     "prompt_number": 67
    },
    {
     "cell_type": "code",
     "collapsed": false,
     "input": [
      "-- build data set\n",
      "dataset={};\n",
      "dataset.X = torch.Tensor(X);\n",
      "dataset.y = {};\n",
      "function dataset:size() return datasetsize end\n",
      "for i=1,dataset:size() do \n",
      "  local input = X[i];\n",
      "  local output = y[i][1]; -- tensor becomes number (for ClassNLL)\n",
      "  dataset.X[i] = torch.Tensor(input);\n",
      "  dataset.y[i] = output;\n",
      "end"
     ],
     "language": "python",
     "metadata": {},
     "outputs": [],
     "prompt_number": 60
    },
    {
     "cell_type": "code",
     "collapsed": false,
     "input": [
      "print(dataset.y[2]) -- has to be tensor for MSE, but number for ClassNLL"
     ],
     "language": "python",
     "metadata": {},
     "outputs": [
      {
       "metadata": {},
       "output_type": "pyout",
       "prompt_number": 62,
       "text": [
        "6\t\n"
       ]
      }
     ],
     "prompt_number": 62
    },
    {
     "cell_type": "code",
     "collapsed": false,
     "input": [
      "for i=1,X:size(2) do\n",
      "    mean = dataset.X[{{}, i}]:mean();\n",
      "    dataset.X[{{}, i}] = dataset.X[{{}, i}] - mean;\n",
      "end"
     ],
     "language": "python",
     "metadata": {},
     "outputs": [
      {
       "metadata": {},
       "output_type": "pyout",
       "prompt_number": 63,
       "text": [
        "\n",
        "     2\n",
        " 27648\n",
        "[torch.LongStorage of size 2]\n",
        "\n"
       ]
      }
     ],
     "prompt_number": 63
    },
    {
     "cell_type": "code",
     "collapsed": false,
     "input": [
      "print(dataset.X[{1, 1}])\n",
      "dataset.X[{{}, 1}] = dataset.X[{{}, 1}] - 1\n",
      "print(dataset.X[{1, 1}])"
     ],
     "language": "python",
     "metadata": {},
     "outputs": [
      {
       "metadata": {},
       "output_type": "pyout",
       "prompt_number": 66,
       "text": [
        "145\t\n",
        "144\t\n"
       ]
      }
     ],
     "prompt_number": 66
    },
    {
     "cell_type": "code",
     "collapsed": false,
     "input": [
      "-- the network\n",
      "require \"nn\"\n",
      "model = nn.Sequential()\n",
      "\n",
      "-- model:add(nn.Reshape(27648))\n",
      "model:add(nn.Reshape(3,96,96,false)) -- delete 'false' when working with batches\n",
      "model:add(nn.SpatialZeroPadding(2,2,2,2))\n",
      "model:add(nn.SpatialConvolutionMM(3,23,7,7,2,2)) -- 23 channels, 7x7 filters, stride (step) 2\n",
      "model:add(nn.ReLU())\n",
      "model:add(nn.SpatialMaxPooling(3,3,2,2)) -- stride (step) 2\n",
      "\n",
      "-- fully connected layer (50 units)\n",
      "model:add(nn.Reshape(23*23*23,false)) -- delete 'false' when working with batches\n",
      "model:add(nn.Linear(23*23*23,50))\n",
      "model:add(nn.Tanh())\n",
      "model:add(nn.Linear(50,10))\n",
      "\n",
      "model:add(nn.LogSoftMax())"
     ],
     "language": "python",
     "metadata": {},
     "outputs": []
    },
    {
     "cell_type": "code",
     "collapsed": true,
     "input": [
      "model"
     ],
     "language": "python",
     "metadata": {},
     "outputs": []
    },
    {
     "cell_type": "code",
     "collapsed": false,
     "input": [
      "-- model prediction works\n",
      "example = dataset[1][1];\n",
      "print( example:size() )"
     ],
     "language": "python",
     "metadata": {},
     "outputs": []
    },
    {
     "cell_type": "code",
     "collapsed": false,
     "input": [
      "print( model:forward(example):size() )"
     ],
     "language": "python",
     "metadata": {},
     "outputs": []
    },
    {
     "cell_type": "code",
     "collapsed": false,
     "input": [
      "print( model:forward(example) )"
     ],
     "language": "python",
     "metadata": {},
     "outputs": []
    },
    {
     "cell_type": "code",
     "collapsed": false,
     "input": [
      "-- training\n",
      "criterion = nn.ClassNLLCriterion()\n",
      "trainer = nn.StochasticGradient(model, criterion)\n",
      "trainer.learningRate = 0.01\n",
      "trainer:train(dataset)"
     ],
     "language": "python",
     "metadata": {},
     "outputs": []
    },
    {
     "cell_type": "code",
     "collapsed": false,
     "input": [],
     "language": "python",
     "metadata": {},
     "outputs": []
    }
   ],
   "metadata": {}
  }
 ]
}